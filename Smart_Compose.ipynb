{
  "nbformat": 4,
  "nbformat_minor": 0,
  "metadata": {
    "colab": {
      "name": "Smart_Compose.ipynb",
      "provenance": [],
      "collapsed_sections": [],
      "toc_visible": true,
      "mount_file_id": "1qrZbYKSdHOgiVDnJRiDUyh9XBGoorAhq",
      "authorship_tag": "ABX9TyNnokl0H9E/p0hTc97VvnbO",
      "include_colab_link": true
    },
    "kernelspec": {
      "name": "python3",
      "display_name": "Python 3"
    },
    "accelerator": "GPU"
  },
  "cells": [
    {
      "cell_type": "markdown",
      "metadata": {
        "id": "view-in-github",
        "colab_type": "text"
      },
      "source": [
        "<a href=\"https://colab.research.google.com/github/eliasyilma/Smart_Compose/blob/master/Smart_Compose.ipynb\" target=\"_parent\"><img src=\"https://colab.research.google.com/assets/colab-badge.svg\" alt=\"Open In Colab\"/></a>"
      ]
    },
    {
      "cell_type": "code",
      "metadata": {
        "id": "lmO2_ATmgm4R",
        "colab_type": "code",
        "outputId": "2debc92d-6a1b-487d-8067-154c38fd9f4b",
        "colab": {
          "base_uri": "https://localhost:8080/",
          "height": 109
        }
      },
      "source": [
        "#!pip install tensorflow-gpu==1.12.0\n",
        "#!wget https://developer.nvidia.com/compute/cuda/9.0/Prod/local_installers/cuda-repo-ubuntu1604-9-0-local_9.0.176-1_amd64-deb\n",
        "#!dpkg -i cuda-repo-ubuntu1604-9-0-local_9.0.176-1_amd64-deb\n",
        "#!apt-key add /var/cuda-repo-9-0-local/7fa2af80.pub\n",
        "#!apt-get update\n",
        "#!apt-get install cuda=9.0.176-1\n",
        "%tensorflow_version 1.13.0\n",
        "import numpy as np\n",
        "np.random.seed(42)\n",
        "import tensorflow as tf\n",
        "#tf.set_random_seed(42)\n",
        "from keras.models import Sequential, load_model\n",
        "from keras.layers import Dense, Activation\n",
        "from keras.layers import LSTM, Dropout\n",
        "from keras.layers import TimeDistributed\n",
        "from keras.layers.core import Dense, Activation, Dropout, RepeatVector\n",
        "from keras.optimizers import RMSprop\n",
        "import matplotlib.pyplot as plt\n",
        "import pickle\n",
        "import sys\n",
        "import heapq\n",
        "import seaborn as sns\n",
        "from pylab import rcParams\n",
        "%matplotlib inline\n",
        "\n",
        "sns.set(style='whitegrid', palette='muted', font_scale=1.5)\n",
        "\n",
        "rcParams['figure.figsize'] = 12, 5\n"
      ],
      "execution_count": 0,
      "outputs": [
        {
          "output_type": "stream",
          "text": [
            "`%tensorflow_version` only switches the major version: 1.x or 2.x.\n",
            "You set: `1.13.0`. This will be interpreted as: `1.x`.\n",
            "\n",
            "\n",
            "TensorFlow is already loaded. Please restart the runtime to change versions.\n"
          ],
          "name": "stdout"
        }
      ]
    },
    {
      "cell_type": "code",
      "metadata": {
        "id": "V4t_YBnybm_P",
        "colab_type": "code",
        "outputId": "26bedcd7-b4a1-4c39-d771-dbae39492450",
        "colab": {
          "base_uri": "https://localhost:8080/",
          "height": 55
        }
      },
      "source": [
        "from google.colab import drive\n",
        "drive.mount('/content/drive')\n",
        "file = open('/content/drive/My Drive/f_dataset2.txt', 'r')\n",
        "def preprocess(data):\n",
        "    output=[]\n",
        "    for phrase in data:\n",
        "        phrase=phrase.replace('\\n','')\n",
        "        phrase=phrase+\" <end>\"\n",
        "        output.append(phrase)\n",
        "    return output\n",
        "\n",
        "def get_vocab(data):\n",
        "    vocab=set()\n",
        "    for phrase in data:\n",
        "        words=phrase.split(' ')\n",
        "        vocab.update(words)\n",
        "    return vocab"
      ],
      "execution_count": 0,
      "outputs": [
        {
          "output_type": "stream",
          "text": [
            "Drive already mounted at /content/drive; to attempt to forcibly remount, call drive.mount(\"/content/drive\", force_remount=True).\n"
          ],
          "name": "stdout"
        }
      ]
    },
    {
      "cell_type": "code",
      "metadata": {
        "id": "kkvHA_T7dIjR",
        "colab_type": "code",
        "outputId": "0c035079-6860-4bcc-bab8-05cc36d32048",
        "colab": {
          "base_uri": "https://localhost:8080/",
          "height": 35
        }
      },
      "source": [
        "\n",
        "text = file.read().lower()\n",
        "file=open(\"/content/drive/My Drive//f_dataset2.txt\")\n",
        "corpus = [line for line in file]\n",
        "print('corpus length:', len(corpus))"
      ],
      "execution_count": 0,
      "outputs": [
        {
          "output_type": "stream",
          "text": [
            "corpus length: 410\n"
          ],
          "name": "stdout"
        }
      ]
    },
    {
      "cell_type": "code",
      "metadata": {
        "id": "wnBJxn6teFv8",
        "colab_type": "code",
        "outputId": "cbb65574-d45b-4887-e162-c79b76bb6659",
        "colab": {
          "base_uri": "https://localhost:8080/",
          "height": 110
        }
      },
      "source": [
        "vocab= (get_vocab(preprocess(corpus)))\n",
        "print(vocab)\n",
        "word_indices = dict((w, i) for i, w in enumerate(vocab))\n",
        "indices_word = dict((i, w) for i, w in enumerate(vocab))\n",
        "# print(chars)\n",
        "print(word_indices)\n",
        "print(indices_word)\n",
        "print(word_indices['<end>'])\n",
        "# unique_chars=len(chars)\n",
        "# print(f'unique chars: {unique_chars}')\n",
        "# chars= sorted(list(set(text)))\n",
        "# char_indices = dict((c, i) for i, c in enumerate(chars))\n",
        "# indices_char = dict((i, c) for i, c in enumerate(chars))\n",
        "# print(chars)\n",
        "# print(char_indices)\n",
        "# print(indices_char)\n",
        "# unique_chars=len(chars)\n",
        "# print(f'unique chars: {unique_chars}')"
      ],
      "execution_count": 0,
      "outputs": [
        {
          "output_type": "stream",
          "text": [
            "{'', 'solution', 'Here’s', 'anytime.', 'interested', 'we’d', 'inform', 'spoke!', 'Merry', 'tell', 'your', 'specific?', 'get', 'Further', 'hate', 'possibly', 'address].', 'forward', 'Best,', 'inconvenience.', 'seems', 'you’ll', 'today.', 'cancel', 'should.', 'resolved.', 'with.', 'clarify', 'an', 'Come', 'Christmas!', 'thought', '10', 'weekend.', 'main', '[product].', \"I'll\", 'arrive.', 'Is', '[word]?', 'best', 'hands.', 'it’s', 'discussed', 'finds', 'expecting', 'wonderful', 'pleased', 'these', 'our', 'conversation', 'regarding', 'attached', 'me', 'please', 'Issue', 'urgent,', 'hearing', 'meeting,', 'how', 'solution,', \"don't\", 'attaching', 'consideration', 'caused.', 'information,', 'finish', 'Congratulations', 'updated', 'enjoying', 'holiday.', 'interested,', 'propose', 'tommorrow.', 'request.', \"you're\", '[time]', 'take', 'It’s', 'last', 'doing', 'delivery', 'project.', 'I', 'time.', 'up', 'reminder', 'happened?', 'contains', 'situation', 'not', 'to...?', 'if', 'life!', 'You', \"we'll\", \"I've\", \"you'd\", '2', 'run', 'reserve', 'details,', 'Hi', 'Glad', 'form', '[topic].', 'line.', 'anniversary!', 'Learn', 'friends!', 'efforts,', 'inconveniences', 'action', 'tutorials', 'works', 'given', 'company', 'After', 'June.', 'receiving', 'country', 'week]', 'placed', 'keep', 'consultation', 'celebrating', 'understood', 'wondering', 'to', 'reconnected', 'you.', 'best,', 'Kind', 'paper', 'helpful', 'Are', 'Have', 'rather', 'regret', 'that', 'prefer', 'impossible', '…', 'back.', 'planning', 'correctly', 'processing', 'this!', 'feature?', 'holiday', 'What', 'working', 'wish', 'Friday.', 'once', 'Dear', '[news]', 'more', 'confirm', 'issue', 'chat', 'great', 'learn', 'came', 'wishes,', 'think', 'Do', 'my', 'In', 'saw', 'decided', 'hope', 'which…', 'are', 'Check', 'check', 'reference', 'out', 'helpful.', 'letter', 'soon', 'in', 'reason.', 'bad', 'reach', '[website].', 'good', 'Long', 'some', '[date],', 'emails', 'longer', 'happy', 'week]!', 'writing', 'workaround', 'feedback.', 'problems', 'answer', 'date.', 'got', 'a', 'call', 'apologies.', 'said]?', 'Here', 'way', 'Sincerely', 'sign', 'delay.', 'can.', 'always', 'week', 'news', 'First', 'received', '[Name],', 'further', 'Team,', 'could', \"Let's\", 'be', 'again.', 'you?', 'much', 'heard', 'touch', \"I'd\", 'concerning', 'address', 'Just', 'Thank', 'day.', 'Let', 'sometime', 'questions,', 'Or', 'arrangement.', 'obtaining', 'there', 'you’d', \"We're\", 'I’ve', 'recommend', 'afraid', 'well,', 'drop', 'consideration.', 'glad', ',', 'order', 'If', 'I’m', 'issue?', 'anything', 'could…', 'friendly', 'option', 'Today,', 'you’re', 'meeting', 'may', 'something].', 'see', \"We've\", 'don’t', 'holidays!', \"Here's\", 'come', 'know.', 'go', 'one', 'faithfully,', 'mind', 'How', 'thanks', 'clearing', '[possible', 'going', 'help.', 'This', 'by', 'inconvenience', 'attached,', 'addition,', 'what', 'us.', 'vacation.', 'useful.', 'the', '[do', 'processed', '[email', 'unable', 'enjoyed', 'I’d', '[repeat', '[name]', 'read', \"It's\", 'do', 'way,', 'event.', 'been', 'we’re', 'Would', 'all,', 'sorry', 'was', 'write', 'left?', 'talked', '3', \"didn't\", 'Take', 'implement', 'up.', 'meeting?', 'announce', \"shouldn't\", 'help', 'explain', '[holiday]', 'ASAP.', 'over', 'problem', 'big', 'bit', 'Feel', '[document]', 'postponed', '<end>', 'as', 'with…', 'caused', 'me.', 'process', 'ways', 'reply', 'until', 'Unfortunately,', 'hear', 'yesterday', 'additional', \"can't\", 'request', 'opportunity!', '[day', 'against', 'days', 'am', 'free', 'order.', 'at', '[date]?', 'At', 'Yours', 'again!', 'details?', 'other', 'happened', 'able', '?', 'day!', 'there.', 'receive', \"(s)he's\", 'place', 'option,', 'delay', '(not)', 'old', '…/', 'making', 'chose', 'seeing', 'we', 'back', 'feel', 'this', 'Despite', 'article?', 'feedback', 'he/she', 'year!', \"I'm\", 'phone', 'wanted', 'right', 'sick', 'is', 'us', 'accept', 'patience/time/cooperation.', 'Many', 'policy', 'vacation', 'instance,', 'better,', 'Which', 'currently', 'but', 'had', 'appreciate', 'what’s', 'remind', 'helping', 'willing', '[reason],', 'page', 'like', \"We'd\", '[Name]', 'it', 'next?', 'set', 'information', 'any', 'days,', \"You're\", 'proceed', '[file].', 'example,', 'see!', 'Did', 'questions', 'might', 'all', 'What’s', 'office.', 'yours,', 'date].', 'It', 'implement.', 'message.', '[Company].', 'chance', 'repeat', 'exactly', 'opportunity', 'Once', 'We', 'because', 'miss', 'successful', 'contact', 'have', 'inspired!', '[email].', 'Easter!', 'need', 'Why', 'Our', 'patience.', 'work', 'sincerely,', 'waiting.', 'for', 'telephone', 'first', 'said', 'week-long', 'article', '15', 'All', 'yesterday.', 'country,', 'truly,', 'Sir/Madam,', 'think.', 'mean', 'March', 'through', 'guarantee', 'application.', 'company.', 'We’re', 'just', 'short', 'that…', 'points', \"you've\", 'Sincerely,', 'attention', 'link', 'give', 'Therefore,', 'soon.', 'time', 'email.', 'under', 'were', 'Please', 'about', 'wait.', 'discussed.', 'agreed', 'let', 'of', 'really', 'talk', 'inconveniences.', 'lot', 'Good', 'no', 'productive', 'us/let', 'with?', \"That's\", 'The', 'vacation?', 'quickly', 'when', 'promotion!\\t', 'has', 'love', 'with', 'considering', 'now', 'morning', 'out.', 'email', 'feeling', 'Feels', 'would', 'hesitate', 'grateful', 'find', '[problem]?', 'review.', '.', 'on?', 'on', 'line', '[date].', 'after', 'send', 'step?', 'Could', 'Wanted', 'reply.', 'For', 'afternoon.', 'understand', 'When', 'chat?', 'month', 'very', 'options.', '[number]', 'this?', 'friends', 'spite', 'thoughtful', 'or', 'afternoon', 'weather.', 'firm.', 'words,', 'assistance,', 'writing.', 'details', 'Your', '[date]', 'everything.', 'sending', 'require', 'why', 'having', 'highly', 'you,', 'that...', '[finish', 'nice', 'sorry,', 'before', 'relationship', 'Hope', 'this.', 'great!', 'correctly,', 'pleasure', 'possible', '[topic]?', 'cannot', 'doing.', 'Thanks,', 'quick', 'reply,', 'together', 'Thanks', 'confident', 'advertisement', \"won't\", 'two', 'second', 'mind.', 'with,', 'care', \"there's\", 'since', 'look', 'convention.', 'meet', 'solve', 'know', 'new', 'talking', 'to.?', 'take.', 'With', 'Looking', '[file]', 'days.', 'had.', 'problems]', 'improvements', 'into', 'proved', 'feature.', 'trip.', 'matter.', 'break.', 'office', 'Best', 'convenient', 'discuss', 'Regards,', 'regards,', 'possible.', 'Tuesday.', 'business', 'careful', 'Due', 'again', 'and', 'recently', 'hoping', 'weekend!', 'link.', 'point', 'thanks,', 'So', 'Sorry', 'issue.', '\\t', 'Can’t', 'There', 'so', 'busy', 'national', 'apologize', 'believe', 'step.', 'time,', 'regard', 'copy', 'you', 'again,', 'well.', 'taking', 'will', 'meeting.', 'brought', 'catch', 'contacting', 'following', 'can', 'Happy', 'been?', 'walk', 'from', 'quite', 'quotation.', 'future.', 'Thursday.', 'than', 'Hello', '[topic]', 'next', 'week.', 'solutions:', 'to...'}\n",
            "{'': 0, 'solution': 1, 'Here’s': 2, 'anytime.': 3, 'interested': 4, 'we’d': 5, 'inform': 6, 'spoke!': 7, 'Merry': 8, 'tell': 9, 'your': 10, 'specific?': 11, 'get': 12, 'Further': 13, 'hate': 14, 'possibly': 15, 'address].': 16, 'forward': 17, 'Best,': 18, 'inconvenience.': 19, 'seems': 20, 'you’ll': 21, 'today.': 22, 'cancel': 23, 'should.': 24, 'resolved.': 25, 'with.': 26, 'clarify': 27, 'an': 28, 'Come': 29, 'Christmas!': 30, 'thought': 31, '10': 32, 'weekend.': 33, 'main': 34, '[product].': 35, \"I'll\": 36, 'arrive.': 37, 'Is': 38, '[word]?': 39, 'best': 40, 'hands.': 41, 'it’s': 42, 'discussed': 43, 'finds': 44, 'expecting': 45, 'wonderful': 46, 'pleased': 47, 'these': 48, 'our': 49, 'conversation': 50, 'regarding': 51, 'attached': 52, 'me': 53, 'please': 54, 'Issue': 55, 'urgent,': 56, 'hearing': 57, 'meeting,': 58, 'how': 59, 'solution,': 60, \"don't\": 61, 'attaching': 62, 'consideration': 63, 'caused.': 64, 'information,': 65, 'finish': 66, 'Congratulations': 67, 'updated': 68, 'enjoying': 69, 'holiday.': 70, 'interested,': 71, 'propose': 72, 'tommorrow.': 73, 'request.': 74, \"you're\": 75, '[time]': 76, 'take': 77, 'It’s': 78, 'last': 79, 'doing': 80, 'delivery': 81, 'project.': 82, 'I': 83, 'time.': 84, 'up': 85, 'reminder': 86, 'happened?': 87, 'contains': 88, 'situation': 89, 'not': 90, 'to...?': 91, 'if': 92, 'life!': 93, 'You': 94, \"we'll\": 95, \"I've\": 96, \"you'd\": 97, '2': 98, 'run': 99, 'reserve': 100, 'details,': 101, 'Hi': 102, 'Glad': 103, 'form': 104, '[topic].': 105, 'line.': 106, 'anniversary!': 107, 'Learn': 108, 'friends!': 109, 'efforts,': 110, 'inconveniences': 111, 'action': 112, 'tutorials': 113, 'works': 114, 'given': 115, 'company': 116, 'After': 117, 'June.': 118, 'receiving': 119, 'country': 120, 'week]': 121, 'placed': 122, 'keep': 123, 'consultation': 124, 'celebrating': 125, 'understood': 126, 'wondering': 127, 'to': 128, 'reconnected': 129, 'you.': 130, 'best,': 131, 'Kind': 132, 'paper': 133, 'helpful': 134, 'Are': 135, 'Have': 136, 'rather': 137, 'regret': 138, 'that': 139, 'prefer': 140, 'impossible': 141, '…': 142, 'back.': 143, 'planning': 144, 'correctly': 145, 'processing': 146, 'this!': 147, 'feature?': 148, 'holiday': 149, 'What': 150, 'working': 151, 'wish': 152, 'Friday.': 153, 'once': 154, 'Dear': 155, '[news]': 156, 'more': 157, 'confirm': 158, 'issue': 159, 'chat': 160, 'great': 161, 'learn': 162, 'came': 163, 'wishes,': 164, 'think': 165, 'Do': 166, 'my': 167, 'In': 168, 'saw': 169, 'decided': 170, 'hope': 171, 'which…': 172, 'are': 173, 'Check': 174, 'check': 175, 'reference': 176, 'out': 177, 'helpful.': 178, 'letter': 179, 'soon': 180, 'in': 181, 'reason.': 182, 'bad': 183, 'reach': 184, '[website].': 185, 'good': 186, 'Long': 187, 'some': 188, '[date],': 189, 'emails': 190, 'longer': 191, 'happy': 192, 'week]!': 193, 'writing': 194, 'workaround': 195, 'feedback.': 196, 'problems': 197, 'answer': 198, 'date.': 199, 'got': 200, 'a': 201, 'call': 202, 'apologies.': 203, 'said]?': 204, 'Here': 205, 'way': 206, 'Sincerely': 207, 'sign': 208, 'delay.': 209, 'can.': 210, 'always': 211, 'week': 212, 'news': 213, 'First': 214, 'received': 215, '[Name],': 216, 'further': 217, 'Team,': 218, 'could': 219, \"Let's\": 220, 'be': 221, 'again.': 222, 'you?': 223, 'much': 224, 'heard': 225, 'touch': 226, \"I'd\": 227, 'concerning': 228, 'address': 229, 'Just': 230, 'Thank': 231, 'day.': 232, 'Let': 233, 'sometime': 234, 'questions,': 235, 'Or': 236, 'arrangement.': 237, 'obtaining': 238, 'there': 239, 'you’d': 240, \"We're\": 241, 'I’ve': 242, 'recommend': 243, 'afraid': 244, 'well,': 245, 'drop': 246, 'consideration.': 247, 'glad': 248, ',': 249, 'order': 250, 'If': 251, 'I’m': 252, 'issue?': 253, 'anything': 254, 'could…': 255, 'friendly': 256, 'option': 257, 'Today,': 258, 'you’re': 259, 'meeting': 260, 'may': 261, 'something].': 262, 'see': 263, \"We've\": 264, 'don’t': 265, 'holidays!': 266, \"Here's\": 267, 'come': 268, 'know.': 269, 'go': 270, 'one': 271, 'faithfully,': 272, 'mind': 273, 'How': 274, 'thanks': 275, 'clearing': 276, '[possible': 277, 'going': 278, 'help.': 279, 'This': 280, 'by': 281, 'inconvenience': 282, 'attached,': 283, 'addition,': 284, 'what': 285, 'us.': 286, 'vacation.': 287, 'useful.': 288, 'the': 289, '[do': 290, 'processed': 291, '[email': 292, 'unable': 293, 'enjoyed': 294, 'I’d': 295, '[repeat': 296, '[name]': 297, 'read': 298, \"It's\": 299, 'do': 300, 'way,': 301, 'event.': 302, 'been': 303, 'we’re': 304, 'Would': 305, 'all,': 306, 'sorry': 307, 'was': 308, 'write': 309, 'left?': 310, 'talked': 311, '3': 312, \"didn't\": 313, 'Take': 314, 'implement': 315, 'up.': 316, 'meeting?': 317, 'announce': 318, \"shouldn't\": 319, 'help': 320, 'explain': 321, '[holiday]': 322, 'ASAP.': 323, 'over': 324, 'problem': 325, 'big': 326, 'bit': 327, 'Feel': 328, '[document]': 329, 'postponed': 330, '<end>': 331, 'as': 332, 'with…': 333, 'caused': 334, 'me.': 335, 'process': 336, 'ways': 337, 'reply': 338, 'until': 339, 'Unfortunately,': 340, 'hear': 341, 'yesterday': 342, 'additional': 343, \"can't\": 344, 'request': 345, 'opportunity!': 346, '[day': 347, 'against': 348, 'days': 349, 'am': 350, 'free': 351, 'order.': 352, 'at': 353, '[date]?': 354, 'At': 355, 'Yours': 356, 'again!': 357, 'details?': 358, 'other': 359, 'happened': 360, 'able': 361, '?': 362, 'day!': 363, 'there.': 364, 'receive': 365, \"(s)he's\": 366, 'place': 367, 'option,': 368, 'delay': 369, '(not)': 370, 'old': 371, '…/': 372, 'making': 373, 'chose': 374, 'seeing': 375, 'we': 376, 'back': 377, 'feel': 378, 'this': 379, 'Despite': 380, 'article?': 381, 'feedback': 382, 'he/she': 383, 'year!': 384, \"I'm\": 385, 'phone': 386, 'wanted': 387, 'right': 388, 'sick': 389, 'is': 390, 'us': 391, 'accept': 392, 'patience/time/cooperation.': 393, 'Many': 394, 'policy': 395, 'vacation': 396, 'instance,': 397, 'better,': 398, 'Which': 399, 'currently': 400, 'but': 401, 'had': 402, 'appreciate': 403, 'what’s': 404, 'remind': 405, 'helping': 406, 'willing': 407, '[reason],': 408, 'page': 409, 'like': 410, \"We'd\": 411, '[Name]': 412, 'it': 413, 'next?': 414, 'set': 415, 'information': 416, 'any': 417, 'days,': 418, \"You're\": 419, 'proceed': 420, '[file].': 421, 'example,': 422, 'see!': 423, 'Did': 424, 'questions': 425, 'might': 426, 'all': 427, 'What’s': 428, 'office.': 429, 'yours,': 430, 'date].': 431, 'It': 432, 'implement.': 433, 'message.': 434, '[Company].': 435, 'chance': 436, 'repeat': 437, 'exactly': 438, 'opportunity': 439, 'Once': 440, 'We': 441, 'because': 442, 'miss': 443, 'successful': 444, 'contact': 445, 'have': 446, 'inspired!': 447, '[email].': 448, 'Easter!': 449, 'need': 450, 'Why': 451, 'Our': 452, 'patience.': 453, 'work': 454, 'sincerely,': 455, 'waiting.': 456, 'for': 457, 'telephone': 458, 'first': 459, 'said': 460, 'week-long': 461, 'article': 462, '15': 463, 'All': 464, 'yesterday.': 465, 'country,': 466, 'truly,': 467, 'Sir/Madam,': 468, 'think.': 469, 'mean': 470, 'March': 471, 'through': 472, 'guarantee': 473, 'application.': 474, 'company.': 475, 'We’re': 476, 'just': 477, 'short': 478, 'that…': 479, 'points': 480, \"you've\": 481, 'Sincerely,': 482, 'attention': 483, 'link': 484, 'give': 485, 'Therefore,': 486, 'soon.': 487, 'time': 488, 'email.': 489, 'under': 490, 'were': 491, 'Please': 492, 'about': 493, 'wait.': 494, 'discussed.': 495, 'agreed': 496, 'let': 497, 'of': 498, 'really': 499, 'talk': 500, 'inconveniences.': 501, 'lot': 502, 'Good': 503, 'no': 504, 'productive': 505, 'us/let': 506, 'with?': 507, \"That's\": 508, 'The': 509, 'vacation?': 510, 'quickly': 511, 'when': 512, 'promotion!\\t': 513, 'has': 514, 'love': 515, 'with': 516, 'considering': 517, 'now': 518, 'morning': 519, 'out.': 520, 'email': 521, 'feeling': 522, 'Feels': 523, 'would': 524, 'hesitate': 525, 'grateful': 526, 'find': 527, '[problem]?': 528, 'review.': 529, '.': 530, 'on?': 531, 'on': 532, 'line': 533, '[date].': 534, 'after': 535, 'send': 536, 'step?': 537, 'Could': 538, 'Wanted': 539, 'reply.': 540, 'For': 541, 'afternoon.': 542, 'understand': 543, 'When': 544, 'chat?': 545, 'month': 546, 'very': 547, 'options.': 548, '[number]': 549, 'this?': 550, 'friends': 551, 'spite': 552, 'thoughtful': 553, 'or': 554, 'afternoon': 555, 'weather.': 556, 'firm.': 557, 'words,': 558, 'assistance,': 559, 'writing.': 560, 'details': 561, 'Your': 562, '[date]': 563, 'everything.': 564, 'sending': 565, 'require': 566, 'why': 567, 'having': 568, 'highly': 569, 'you,': 570, 'that...': 571, '[finish': 572, 'nice': 573, 'sorry,': 574, 'before': 575, 'relationship': 576, 'Hope': 577, 'this.': 578, 'great!': 579, 'correctly,': 580, 'pleasure': 581, 'possible': 582, '[topic]?': 583, 'cannot': 584, 'doing.': 585, 'Thanks,': 586, 'quick': 587, 'reply,': 588, 'together': 589, 'Thanks': 590, 'confident': 591, 'advertisement': 592, \"won't\": 593, 'two': 594, 'second': 595, 'mind.': 596, 'with,': 597, 'care': 598, \"there's\": 599, 'since': 600, 'look': 601, 'convention.': 602, 'meet': 603, 'solve': 604, 'know': 605, 'new': 606, 'talking': 607, 'to.?': 608, 'take.': 609, 'With': 610, 'Looking': 611, '[file]': 612, 'days.': 613, 'had.': 614, 'problems]': 615, 'improvements': 616, 'into': 617, 'proved': 618, 'feature.': 619, 'trip.': 620, 'matter.': 621, 'break.': 622, 'office': 623, 'Best': 624, 'convenient': 625, 'discuss': 626, 'Regards,': 627, 'regards,': 628, 'possible.': 629, 'Tuesday.': 630, 'business': 631, 'careful': 632, 'Due': 633, 'again': 634, 'and': 635, 'recently': 636, 'hoping': 637, 'weekend!': 638, 'link.': 639, 'point': 640, 'thanks,': 641, 'So': 642, 'Sorry': 643, 'issue.': 644, '\\t': 645, 'Can’t': 646, 'There': 647, 'so': 648, 'busy': 649, 'national': 650, 'apologize': 651, 'believe': 652, 'step.': 653, 'time,': 654, 'regard': 655, 'copy': 656, 'you': 657, 'again,': 658, 'well.': 659, 'taking': 660, 'will': 661, 'meeting.': 662, 'brought': 663, 'catch': 664, 'contacting': 665, 'following': 666, 'can': 667, 'Happy': 668, 'been?': 669, 'walk': 670, 'from': 671, 'quite': 672, 'quotation.': 673, 'future.': 674, 'Thursday.': 675, 'than': 676, 'Hello': 677, '[topic]': 678, 'next': 679, 'week.': 680, 'solutions:': 681, 'to...': 682}\n",
            "{0: '', 1: 'solution', 2: 'Here’s', 3: 'anytime.', 4: 'interested', 5: 'we’d', 6: 'inform', 7: 'spoke!', 8: 'Merry', 9: 'tell', 10: 'your', 11: 'specific?', 12: 'get', 13: 'Further', 14: 'hate', 15: 'possibly', 16: 'address].', 17: 'forward', 18: 'Best,', 19: 'inconvenience.', 20: 'seems', 21: 'you’ll', 22: 'today.', 23: 'cancel', 24: 'should.', 25: 'resolved.', 26: 'with.', 27: 'clarify', 28: 'an', 29: 'Come', 30: 'Christmas!', 31: 'thought', 32: '10', 33: 'weekend.', 34: 'main', 35: '[product].', 36: \"I'll\", 37: 'arrive.', 38: 'Is', 39: '[word]?', 40: 'best', 41: 'hands.', 42: 'it’s', 43: 'discussed', 44: 'finds', 45: 'expecting', 46: 'wonderful', 47: 'pleased', 48: 'these', 49: 'our', 50: 'conversation', 51: 'regarding', 52: 'attached', 53: 'me', 54: 'please', 55: 'Issue', 56: 'urgent,', 57: 'hearing', 58: 'meeting,', 59: 'how', 60: 'solution,', 61: \"don't\", 62: 'attaching', 63: 'consideration', 64: 'caused.', 65: 'information,', 66: 'finish', 67: 'Congratulations', 68: 'updated', 69: 'enjoying', 70: 'holiday.', 71: 'interested,', 72: 'propose', 73: 'tommorrow.', 74: 'request.', 75: \"you're\", 76: '[time]', 77: 'take', 78: 'It’s', 79: 'last', 80: 'doing', 81: 'delivery', 82: 'project.', 83: 'I', 84: 'time.', 85: 'up', 86: 'reminder', 87: 'happened?', 88: 'contains', 89: 'situation', 90: 'not', 91: 'to...?', 92: 'if', 93: 'life!', 94: 'You', 95: \"we'll\", 96: \"I've\", 97: \"you'd\", 98: '2', 99: 'run', 100: 'reserve', 101: 'details,', 102: 'Hi', 103: 'Glad', 104: 'form', 105: '[topic].', 106: 'line.', 107: 'anniversary!', 108: 'Learn', 109: 'friends!', 110: 'efforts,', 111: 'inconveniences', 112: 'action', 113: 'tutorials', 114: 'works', 115: 'given', 116: 'company', 117: 'After', 118: 'June.', 119: 'receiving', 120: 'country', 121: 'week]', 122: 'placed', 123: 'keep', 124: 'consultation', 125: 'celebrating', 126: 'understood', 127: 'wondering', 128: 'to', 129: 'reconnected', 130: 'you.', 131: 'best,', 132: 'Kind', 133: 'paper', 134: 'helpful', 135: 'Are', 136: 'Have', 137: 'rather', 138: 'regret', 139: 'that', 140: 'prefer', 141: 'impossible', 142: '…', 143: 'back.', 144: 'planning', 145: 'correctly', 146: 'processing', 147: 'this!', 148: 'feature?', 149: 'holiday', 150: 'What', 151: 'working', 152: 'wish', 153: 'Friday.', 154: 'once', 155: 'Dear', 156: '[news]', 157: 'more', 158: 'confirm', 159: 'issue', 160: 'chat', 161: 'great', 162: 'learn', 163: 'came', 164: 'wishes,', 165: 'think', 166: 'Do', 167: 'my', 168: 'In', 169: 'saw', 170: 'decided', 171: 'hope', 172: 'which…', 173: 'are', 174: 'Check', 175: 'check', 176: 'reference', 177: 'out', 178: 'helpful.', 179: 'letter', 180: 'soon', 181: 'in', 182: 'reason.', 183: 'bad', 184: 'reach', 185: '[website].', 186: 'good', 187: 'Long', 188: 'some', 189: '[date],', 190: 'emails', 191: 'longer', 192: 'happy', 193: 'week]!', 194: 'writing', 195: 'workaround', 196: 'feedback.', 197: 'problems', 198: 'answer', 199: 'date.', 200: 'got', 201: 'a', 202: 'call', 203: 'apologies.', 204: 'said]?', 205: 'Here', 206: 'way', 207: 'Sincerely', 208: 'sign', 209: 'delay.', 210: 'can.', 211: 'always', 212: 'week', 213: 'news', 214: 'First', 215: 'received', 216: '[Name],', 217: 'further', 218: 'Team,', 219: 'could', 220: \"Let's\", 221: 'be', 222: 'again.', 223: 'you?', 224: 'much', 225: 'heard', 226: 'touch', 227: \"I'd\", 228: 'concerning', 229: 'address', 230: 'Just', 231: 'Thank', 232: 'day.', 233: 'Let', 234: 'sometime', 235: 'questions,', 236: 'Or', 237: 'arrangement.', 238: 'obtaining', 239: 'there', 240: 'you’d', 241: \"We're\", 242: 'I’ve', 243: 'recommend', 244: 'afraid', 245: 'well,', 246: 'drop', 247: 'consideration.', 248: 'glad', 249: ',', 250: 'order', 251: 'If', 252: 'I’m', 253: 'issue?', 254: 'anything', 255: 'could…', 256: 'friendly', 257: 'option', 258: 'Today,', 259: 'you’re', 260: 'meeting', 261: 'may', 262: 'something].', 263: 'see', 264: \"We've\", 265: 'don’t', 266: 'holidays!', 267: \"Here's\", 268: 'come', 269: 'know.', 270: 'go', 271: 'one', 272: 'faithfully,', 273: 'mind', 274: 'How', 275: 'thanks', 276: 'clearing', 277: '[possible', 278: 'going', 279: 'help.', 280: 'This', 281: 'by', 282: 'inconvenience', 283: 'attached,', 284: 'addition,', 285: 'what', 286: 'us.', 287: 'vacation.', 288: 'useful.', 289: 'the', 290: '[do', 291: 'processed', 292: '[email', 293: 'unable', 294: 'enjoyed', 295: 'I’d', 296: '[repeat', 297: '[name]', 298: 'read', 299: \"It's\", 300: 'do', 301: 'way,', 302: 'event.', 303: 'been', 304: 'we’re', 305: 'Would', 306: 'all,', 307: 'sorry', 308: 'was', 309: 'write', 310: 'left?', 311: 'talked', 312: '3', 313: \"didn't\", 314: 'Take', 315: 'implement', 316: 'up.', 317: 'meeting?', 318: 'announce', 319: \"shouldn't\", 320: 'help', 321: 'explain', 322: '[holiday]', 323: 'ASAP.', 324: 'over', 325: 'problem', 326: 'big', 327: 'bit', 328: 'Feel', 329: '[document]', 330: 'postponed', 331: '<end>', 332: 'as', 333: 'with…', 334: 'caused', 335: 'me.', 336: 'process', 337: 'ways', 338: 'reply', 339: 'until', 340: 'Unfortunately,', 341: 'hear', 342: 'yesterday', 343: 'additional', 344: \"can't\", 345: 'request', 346: 'opportunity!', 347: '[day', 348: 'against', 349: 'days', 350: 'am', 351: 'free', 352: 'order.', 353: 'at', 354: '[date]?', 355: 'At', 356: 'Yours', 357: 'again!', 358: 'details?', 359: 'other', 360: 'happened', 361: 'able', 362: '?', 363: 'day!', 364: 'there.', 365: 'receive', 366: \"(s)he's\", 367: 'place', 368: 'option,', 369: 'delay', 370: '(not)', 371: 'old', 372: '…/', 373: 'making', 374: 'chose', 375: 'seeing', 376: 'we', 377: 'back', 378: 'feel', 379: 'this', 380: 'Despite', 381: 'article?', 382: 'feedback', 383: 'he/she', 384: 'year!', 385: \"I'm\", 386: 'phone', 387: 'wanted', 388: 'right', 389: 'sick', 390: 'is', 391: 'us', 392: 'accept', 393: 'patience/time/cooperation.', 394: 'Many', 395: 'policy', 396: 'vacation', 397: 'instance,', 398: 'better,', 399: 'Which', 400: 'currently', 401: 'but', 402: 'had', 403: 'appreciate', 404: 'what’s', 405: 'remind', 406: 'helping', 407: 'willing', 408: '[reason],', 409: 'page', 410: 'like', 411: \"We'd\", 412: '[Name]', 413: 'it', 414: 'next?', 415: 'set', 416: 'information', 417: 'any', 418: 'days,', 419: \"You're\", 420: 'proceed', 421: '[file].', 422: 'example,', 423: 'see!', 424: 'Did', 425: 'questions', 426: 'might', 427: 'all', 428: 'What’s', 429: 'office.', 430: 'yours,', 431: 'date].', 432: 'It', 433: 'implement.', 434: 'message.', 435: '[Company].', 436: 'chance', 437: 'repeat', 438: 'exactly', 439: 'opportunity', 440: 'Once', 441: 'We', 442: 'because', 443: 'miss', 444: 'successful', 445: 'contact', 446: 'have', 447: 'inspired!', 448: '[email].', 449: 'Easter!', 450: 'need', 451: 'Why', 452: 'Our', 453: 'patience.', 454: 'work', 455: 'sincerely,', 456: 'waiting.', 457: 'for', 458: 'telephone', 459: 'first', 460: 'said', 461: 'week-long', 462: 'article', 463: '15', 464: 'All', 465: 'yesterday.', 466: 'country,', 467: 'truly,', 468: 'Sir/Madam,', 469: 'think.', 470: 'mean', 471: 'March', 472: 'through', 473: 'guarantee', 474: 'application.', 475: 'company.', 476: 'We’re', 477: 'just', 478: 'short', 479: 'that…', 480: 'points', 481: \"you've\", 482: 'Sincerely,', 483: 'attention', 484: 'link', 485: 'give', 486: 'Therefore,', 487: 'soon.', 488: 'time', 489: 'email.', 490: 'under', 491: 'were', 492: 'Please', 493: 'about', 494: 'wait.', 495: 'discussed.', 496: 'agreed', 497: 'let', 498: 'of', 499: 'really', 500: 'talk', 501: 'inconveniences.', 502: 'lot', 503: 'Good', 504: 'no', 505: 'productive', 506: 'us/let', 507: 'with?', 508: \"That's\", 509: 'The', 510: 'vacation?', 511: 'quickly', 512: 'when', 513: 'promotion!\\t', 514: 'has', 515: 'love', 516: 'with', 517: 'considering', 518: 'now', 519: 'morning', 520: 'out.', 521: 'email', 522: 'feeling', 523: 'Feels', 524: 'would', 525: 'hesitate', 526: 'grateful', 527: 'find', 528: '[problem]?', 529: 'review.', 530: '.', 531: 'on?', 532: 'on', 533: 'line', 534: '[date].', 535: 'after', 536: 'send', 537: 'step?', 538: 'Could', 539: 'Wanted', 540: 'reply.', 541: 'For', 542: 'afternoon.', 543: 'understand', 544: 'When', 545: 'chat?', 546: 'month', 547: 'very', 548: 'options.', 549: '[number]', 550: 'this?', 551: 'friends', 552: 'spite', 553: 'thoughtful', 554: 'or', 555: 'afternoon', 556: 'weather.', 557: 'firm.', 558: 'words,', 559: 'assistance,', 560: 'writing.', 561: 'details', 562: 'Your', 563: '[date]', 564: 'everything.', 565: 'sending', 566: 'require', 567: 'why', 568: 'having', 569: 'highly', 570: 'you,', 571: 'that...', 572: '[finish', 573: 'nice', 574: 'sorry,', 575: 'before', 576: 'relationship', 577: 'Hope', 578: 'this.', 579: 'great!', 580: 'correctly,', 581: 'pleasure', 582: 'possible', 583: '[topic]?', 584: 'cannot', 585: 'doing.', 586: 'Thanks,', 587: 'quick', 588: 'reply,', 589: 'together', 590: 'Thanks', 591: 'confident', 592: 'advertisement', 593: \"won't\", 594: 'two', 595: 'second', 596: 'mind.', 597: 'with,', 598: 'care', 599: \"there's\", 600: 'since', 601: 'look', 602: 'convention.', 603: 'meet', 604: 'solve', 605: 'know', 606: 'new', 607: 'talking', 608: 'to.?', 609: 'take.', 610: 'With', 611: 'Looking', 612: '[file]', 613: 'days.', 614: 'had.', 615: 'problems]', 616: 'improvements', 617: 'into', 618: 'proved', 619: 'feature.', 620: 'trip.', 621: 'matter.', 622: 'break.', 623: 'office', 624: 'Best', 625: 'convenient', 626: 'discuss', 627: 'Regards,', 628: 'regards,', 629: 'possible.', 630: 'Tuesday.', 631: 'business', 632: 'careful', 633: 'Due', 634: 'again', 635: 'and', 636: 'recently', 637: 'hoping', 638: 'weekend!', 639: 'link.', 640: 'point', 641: 'thanks,', 642: 'So', 643: 'Sorry', 644: 'issue.', 645: '\\t', 646: 'Can’t', 647: 'There', 648: 'so', 649: 'busy', 650: 'national', 651: 'apologize', 652: 'believe', 653: 'step.', 654: 'time,', 655: 'regard', 656: 'copy', 657: 'you', 658: 'again,', 659: 'well.', 660: 'taking', 661: 'will', 662: 'meeting.', 663: 'brought', 664: 'catch', 665: 'contacting', 666: 'following', 667: 'can', 668: 'Happy', 669: 'been?', 670: 'walk', 671: 'from', 672: 'quite', 673: 'quotation.', 674: 'future.', 675: 'Thursday.', 676: 'than', 677: 'Hello', 678: '[topic]', 679: 'next', 680: 'week.', 681: 'solutions:', 682: 'to...'}\n",
            "331\n"
          ],
          "name": "stdout"
        }
      ]
    },
    {
      "cell_type": "code",
      "metadata": {
        "id": "mAQpU9KQev1I",
        "colab_type": "code",
        "outputId": "d961173f-7d68-4d66-fbd8-c32b59270328",
        "colab": {
          "base_uri": "https://localhost:8080/",
          "height": 35
        }
      },
      "source": [
        "SEQUENCE_LENGTH = 2\n",
        "step = 1\n",
        "sentences = []\n",
        "next_words = []\n",
        "def generate_in_out(data):\n",
        "    sentences=[]\n",
        "    words=[]\n",
        "    for line in data:\n",
        "        line =line\n",
        "        token_list=line.split(' ')\n",
        "        for i in range(0, len(token_list) - SEQUENCE_LENGTH, step):\n",
        "            sentences.append(token_list[i: i + SEQUENCE_LENGTH])\n",
        "            words.append(token_list[i + SEQUENCE_LENGTH])\n",
        "    return sentences,words\n",
        "\n",
        "sentences,next_words=generate_in_out(preprocess(corpus))    \n",
        "print(f'num training examples: {len(sentences)}')\n",
        "\n",
        "# for i in range(0, len(text) - SEQUENCE_LENGTH, step):\n",
        "#     sentences.append(text[i: i + SEQUENCE_LENGTH])\n",
        "#     next_chars.append(text[i + SEQUENCE_LENGTH])\n"
      ],
      "execution_count": 0,
      "outputs": [
        {
          "output_type": "stream",
          "text": [
            "num training examples: 2344\n"
          ],
          "name": "stdout"
        }
      ]
    },
    {
      "cell_type": "code",
      "metadata": {
        "id": "HUf2-IqA3aUU",
        "colab_type": "code",
        "outputId": "cd199a3b-1bc7-494e-9e27-b7b1d2228483",
        "colab": {
          "base_uri": "https://localhost:8080/",
          "height": 92
        }
      },
      "source": [
        "print(sentences[0:30])\n",
        "print(next_words[0:30])\n",
        "preprocess(corpus)[1]\n",
        "\n"
      ],
      "execution_count": 0,
      "outputs": [
        {
          "output_type": "stream",
          "text": [
            "[['Dear', 'Sir/Madam,'], ['Sir/Madam,', ''], ['Dear', '[Name],'], ['[Name],', ''], ['Hello', '[Name],'], ['[Name],', ''], ['Hi', '[Name],'], ['[Name],', ''], ['Hi', 'Team,'], ['Team,', ''], ['Good', 'morning'], ['morning', '[Name],'], ['[Name],', ''], ['Good', 'afternoon'], ['afternoon', '[Name],'], ['[Name],', ''], ['I', 'recently'], ['recently', 'read'], ['I', 'recently'], ['recently', 'heard'], ['heard', 'about'], ['about', ''], ['', ''], ['and', 'would'], ['would', 'like'], ['like', 'to'], ['to', 'know'], ['know', ''], ['I', 'would'], ['would', 'be']]\n",
            "['', '<end>', '', '<end>', '', '<end>', '', '<end>', '', '<end>', '[Name],', '', '<end>', '[Name],', '', '<end>', 'read', '<end>', 'heard', 'about', '', '', '<end>', 'like', 'to', 'know', '', '<end>', 'be', 'interested']\n"
          ],
          "name": "stdout"
        },
        {
          "output_type": "execute_result",
          "data": {
            "text/plain": [
              "'Dear [Name],  <end>'"
            ]
          },
          "metadata": {
            "tags": []
          },
          "execution_count": 107
        }
      ]
    },
    {
      "cell_type": "code",
      "metadata": {
        "id": "lou-MZq1f2wz",
        "colab_type": "code",
        "outputId": "99c1c4cb-3b8e-40ae-cf27-42c2b2a93f47",
        "colab": {
          "base_uri": "https://localhost:8080/",
          "height": 54
        }
      },
      "source": [
        "X = np.zeros((len(sentences), SEQUENCE_LENGTH, len(vocab)), dtype=np.bool)\n",
        "y = np.zeros((len(sentences), len(vocab)), dtype=np.bool)\n",
        "print(f'input vector: {X.shape}')\n",
        "print(f'output vector: {y.shape}')\n",
        "#for each character in each sentence, set the\n",
        "for i, sentence in enumerate(sentences):\n",
        "    for t, word in enumerate(sentence):\n",
        "        X[i, t, word_indices[word]] = 1\n",
        "    y[i, word_indices[next_words[i]]] = 1"
      ],
      "execution_count": 0,
      "outputs": [
        {
          "output_type": "stream",
          "text": [
            "input vector: (2344, 2, 683)\n",
            "output vector: (2344, 683)\n"
          ],
          "name": "stdout"
        }
      ]
    },
    {
      "cell_type": "code",
      "metadata": {
        "id": "rj9VdWkkhXGT",
        "colab_type": "code",
        "outputId": "e683c284-d4a2-4e27-8c41-f071967e1ea6",
        "colab": {
          "base_uri": "https://localhost:8080/",
          "height": 274
        }
      },
      "source": [
        "model = Sequential()\n",
        "model.add(LSTM(128, input_shape=(SEQUENCE_LENGTH, len(vocab))))\n",
        "model.add(Dense(len(vocab)))\n",
        "model.add(Activation('softmax'))\n",
        "optimizer = RMSprop(lr=0.01)\n",
        "model.compile(loss='categorical_crossentropy', optimizer=optimizer, metrics=['accuracy'])\n",
        "model.summary()"
      ],
      "execution_count": 0,
      "outputs": [
        {
          "output_type": "stream",
          "text": [
            "Model: \"sequential_4\"\n",
            "_________________________________________________________________\n",
            "Layer (type)                 Output Shape              Param #   \n",
            "=================================================================\n",
            "lstm_4 (LSTM)                (None, 128)               415744    \n",
            "_________________________________________________________________\n",
            "dense_4 (Dense)              (None, 683)               88107     \n",
            "_________________________________________________________________\n",
            "activation_4 (Activation)    (None, 683)               0         \n",
            "=================================================================\n",
            "Total params: 503,851\n",
            "Trainable params: 503,851\n",
            "Non-trainable params: 0\n",
            "_________________________________________________________________\n"
          ],
          "name": "stdout"
        }
      ]
    },
    {
      "cell_type": "code",
      "metadata": {
        "id": "AQDcKmmnj4uW",
        "colab_type": "code",
        "outputId": "cc986f03-1307-4009-c7a1-9bc15f8d9ff0",
        "colab": {
          "base_uri": "https://localhost:8080/",
          "height": 1000
        }
      },
      "source": [
        "history = model.fit(X, y, validation_split=0.05, batch_size=128, epochs=100, shuffle=True).history"
      ],
      "execution_count": 0,
      "outputs": [
        {
          "output_type": "stream",
          "text": [
            "Train on 2226 samples, validate on 118 samples\n",
            "Epoch 1/100\n",
            "2226/2226 [==============================] - 1s 632us/step - loss: 5.2108 - acc: 0.1572 - val_loss: 5.3058 - val_acc: 0.0847\n",
            "Epoch 2/100\n",
            "2226/2226 [==============================] - 0s 93us/step - loss: 4.2025 - acc: 0.2556 - val_loss: 5.1958 - val_acc: 0.1949\n",
            "Epoch 3/100\n",
            "2226/2226 [==============================] - 0s 94us/step - loss: 3.6367 - acc: 0.3266 - val_loss: 5.4847 - val_acc: 0.0847\n",
            "Epoch 4/100\n",
            "2226/2226 [==============================] - 0s 93us/step - loss: 3.0528 - acc: 0.4066 - val_loss: 5.3451 - val_acc: 0.1356\n",
            "Epoch 5/100\n",
            "2226/2226 [==============================] - 0s 100us/step - loss: 2.5349 - acc: 0.4695 - val_loss: 5.6062 - val_acc: 0.1610\n",
            "Epoch 6/100\n",
            "2226/2226 [==============================] - 0s 95us/step - loss: 2.1031 - acc: 0.5413 - val_loss: 5.9180 - val_acc: 0.1525\n",
            "Epoch 7/100\n",
            "2226/2226 [==============================] - 0s 89us/step - loss: 1.7070 - acc: 0.5921 - val_loss: 6.2548 - val_acc: 0.1525\n",
            "Epoch 8/100\n",
            "2226/2226 [==============================] - 0s 101us/step - loss: 1.3805 - acc: 0.6496 - val_loss: 5.8156 - val_acc: 0.1780\n",
            "Epoch 9/100\n",
            "2226/2226 [==============================] - 0s 98us/step - loss: 1.1497 - acc: 0.7008 - val_loss: 6.1131 - val_acc: 0.1525\n",
            "Epoch 10/100\n",
            "2226/2226 [==============================] - 0s 96us/step - loss: 0.9803 - acc: 0.7233 - val_loss: 6.3484 - val_acc: 0.1695\n",
            "Epoch 11/100\n",
            "2226/2226 [==============================] - 0s 90us/step - loss: 0.8691 - acc: 0.7475 - val_loss: 6.6466 - val_acc: 0.2119\n",
            "Epoch 12/100\n",
            "2226/2226 [==============================] - 0s 91us/step - loss: 0.8035 - acc: 0.7561 - val_loss: 7.2049 - val_acc: 0.1695\n",
            "Epoch 13/100\n",
            "2226/2226 [==============================] - 0s 94us/step - loss: 0.7563 - acc: 0.7552 - val_loss: 6.8463 - val_acc: 0.2034\n",
            "Epoch 14/100\n",
            "2226/2226 [==============================] - 0s 98us/step - loss: 0.7206 - acc: 0.7668 - val_loss: 7.0088 - val_acc: 0.1780\n",
            "Epoch 15/100\n",
            "2226/2226 [==============================] - 0s 90us/step - loss: 0.7020 - acc: 0.7610 - val_loss: 7.1671 - val_acc: 0.2373\n",
            "Epoch 16/100\n",
            "2226/2226 [==============================] - 0s 91us/step - loss: 0.6718 - acc: 0.7597 - val_loss: 7.4237 - val_acc: 0.1695\n",
            "Epoch 17/100\n",
            "2226/2226 [==============================] - 0s 94us/step - loss: 0.6598 - acc: 0.7628 - val_loss: 7.2083 - val_acc: 0.2203\n",
            "Epoch 18/100\n",
            "2226/2226 [==============================] - 0s 92us/step - loss: 0.6500 - acc: 0.7646 - val_loss: 7.5545 - val_acc: 0.2203\n",
            "Epoch 19/100\n",
            "2226/2226 [==============================] - 0s 99us/step - loss: 0.6454 - acc: 0.7691 - val_loss: 7.3399 - val_acc: 0.1610\n",
            "Epoch 20/100\n",
            "2226/2226 [==============================] - 0s 93us/step - loss: 0.6335 - acc: 0.7700 - val_loss: 7.4792 - val_acc: 0.1695\n",
            "Epoch 21/100\n",
            "2226/2226 [==============================] - 0s 90us/step - loss: 0.6343 - acc: 0.7642 - val_loss: 7.6054 - val_acc: 0.2119\n",
            "Epoch 22/100\n",
            "2226/2226 [==============================] - 0s 91us/step - loss: 0.6165 - acc: 0.7691 - val_loss: 7.5197 - val_acc: 0.1949\n",
            "Epoch 23/100\n",
            "2226/2226 [==============================] - 0s 92us/step - loss: 0.6115 - acc: 0.7668 - val_loss: 7.5730 - val_acc: 0.1864\n",
            "Epoch 24/100\n",
            "2226/2226 [==============================] - 0s 100us/step - loss: 0.6107 - acc: 0.7677 - val_loss: 7.5510 - val_acc: 0.1780\n",
            "Epoch 25/100\n",
            "2226/2226 [==============================] - 0s 93us/step - loss: 0.6080 - acc: 0.7646 - val_loss: 7.8903 - val_acc: 0.1525\n",
            "Epoch 26/100\n",
            "2226/2226 [==============================] - 0s 91us/step - loss: 0.5989 - acc: 0.7682 - val_loss: 7.7201 - val_acc: 0.1780\n",
            "Epoch 27/100\n",
            "2226/2226 [==============================] - 0s 92us/step - loss: 0.5935 - acc: 0.7803 - val_loss: 7.7792 - val_acc: 0.1610\n",
            "Epoch 28/100\n",
            "2226/2226 [==============================] - 0s 92us/step - loss: 0.5893 - acc: 0.7700 - val_loss: 8.0231 - val_acc: 0.1441\n",
            "Epoch 29/100\n",
            "2226/2226 [==============================] - 0s 98us/step - loss: 0.5915 - acc: 0.7673 - val_loss: 7.9109 - val_acc: 0.1610\n",
            "Epoch 30/100\n",
            "2226/2226 [==============================] - 0s 93us/step - loss: 0.5767 - acc: 0.7812 - val_loss: 7.7706 - val_acc: 0.1949\n",
            "Epoch 31/100\n",
            "2226/2226 [==============================] - 0s 92us/step - loss: 0.5788 - acc: 0.7700 - val_loss: 7.6673 - val_acc: 0.1949\n",
            "Epoch 32/100\n",
            "2226/2226 [==============================] - 0s 90us/step - loss: 0.5723 - acc: 0.7731 - val_loss: 7.9824 - val_acc: 0.1780\n",
            "Epoch 33/100\n",
            "2226/2226 [==============================] - 0s 89us/step - loss: 0.5744 - acc: 0.7731 - val_loss: 8.1649 - val_acc: 0.1356\n",
            "Epoch 34/100\n",
            "2226/2226 [==============================] - 0s 97us/step - loss: 0.5693 - acc: 0.7713 - val_loss: 7.9246 - val_acc: 0.1949\n",
            "Epoch 35/100\n",
            "2226/2226 [==============================] - 0s 92us/step - loss: 0.5783 - acc: 0.7686 - val_loss: 7.9684 - val_acc: 0.1864\n",
            "Epoch 36/100\n",
            "2226/2226 [==============================] - 0s 95us/step - loss: 0.5687 - acc: 0.7709 - val_loss: 8.0072 - val_acc: 0.1525\n",
            "Epoch 37/100\n",
            "2226/2226 [==============================] - 0s 92us/step - loss: 0.5580 - acc: 0.7704 - val_loss: 8.0942 - val_acc: 0.1525\n",
            "Epoch 38/100\n",
            "2226/2226 [==============================] - 0s 92us/step - loss: 0.5642 - acc: 0.7731 - val_loss: 8.0422 - val_acc: 0.2119\n",
            "Epoch 39/100\n",
            "2226/2226 [==============================] - 0s 99us/step - loss: 0.5612 - acc: 0.7749 - val_loss: 8.0565 - val_acc: 0.1780\n",
            "Epoch 40/100\n",
            "2226/2226 [==============================] - 0s 90us/step - loss: 0.5575 - acc: 0.7767 - val_loss: 8.0369 - val_acc: 0.1610\n",
            "Epoch 41/100\n",
            "2226/2226 [==============================] - 0s 92us/step - loss: 0.5550 - acc: 0.7722 - val_loss: 8.1245 - val_acc: 0.1695\n",
            "Epoch 42/100\n",
            "2226/2226 [==============================] - 0s 93us/step - loss: 0.5537 - acc: 0.7749 - val_loss: 8.1276 - val_acc: 0.1695\n",
            "Epoch 43/100\n",
            "2226/2226 [==============================] - 0s 90us/step - loss: 0.5510 - acc: 0.7713 - val_loss: 8.1953 - val_acc: 0.1695\n",
            "Epoch 44/100\n",
            "2226/2226 [==============================] - 0s 99us/step - loss: 0.5521 - acc: 0.7736 - val_loss: 8.1996 - val_acc: 0.1441\n",
            "Epoch 45/100\n",
            "2226/2226 [==============================] - 0s 92us/step - loss: 0.5442 - acc: 0.7772 - val_loss: 8.1876 - val_acc: 0.1780\n",
            "Epoch 46/100\n",
            "2226/2226 [==============================] - 0s 91us/step - loss: 0.5524 - acc: 0.7686 - val_loss: 8.2246 - val_acc: 0.1525\n",
            "Epoch 47/100\n",
            "2226/2226 [==============================] - 0s 91us/step - loss: 0.5443 - acc: 0.7749 - val_loss: 8.1788 - val_acc: 0.1695\n",
            "Epoch 48/100\n",
            "2226/2226 [==============================] - 0s 96us/step - loss: 0.5379 - acc: 0.7799 - val_loss: 8.3676 - val_acc: 0.1695\n",
            "Epoch 49/100\n",
            "2226/2226 [==============================] - 0s 97us/step - loss: 0.5417 - acc: 0.7758 - val_loss: 8.2490 - val_acc: 0.1695\n",
            "Epoch 50/100\n",
            "2226/2226 [==============================] - 0s 91us/step - loss: 0.5403 - acc: 0.7718 - val_loss: 8.1510 - val_acc: 0.1780\n",
            "Epoch 51/100\n",
            "2226/2226 [==============================] - 0s 92us/step - loss: 0.5370 - acc: 0.7740 - val_loss: 8.3618 - val_acc: 0.1525\n",
            "Epoch 52/100\n",
            "2226/2226 [==============================] - 0s 93us/step - loss: 0.5410 - acc: 0.7713 - val_loss: 8.4413 - val_acc: 0.1610\n",
            "Epoch 53/100\n",
            "2226/2226 [==============================] - 0s 93us/step - loss: 0.5336 - acc: 0.7772 - val_loss: 8.4055 - val_acc: 0.1949\n",
            "Epoch 54/100\n",
            "2226/2226 [==============================] - 0s 93us/step - loss: 0.5369 - acc: 0.7740 - val_loss: 8.3502 - val_acc: 0.1780\n",
            "Epoch 55/100\n",
            "2226/2226 [==============================] - 0s 90us/step - loss: 0.5370 - acc: 0.7776 - val_loss: 8.4860 - val_acc: 0.1864\n",
            "Epoch 56/100\n",
            "2226/2226 [==============================] - 0s 91us/step - loss: 0.5352 - acc: 0.7731 - val_loss: 8.4191 - val_acc: 0.1949\n",
            "Epoch 57/100\n",
            "2226/2226 [==============================] - 0s 96us/step - loss: 0.5355 - acc: 0.7727 - val_loss: 8.4289 - val_acc: 0.1949\n",
            "Epoch 58/100\n",
            "2226/2226 [==============================] - 0s 96us/step - loss: 0.5269 - acc: 0.7794 - val_loss: 8.4619 - val_acc: 0.1780\n",
            "Epoch 59/100\n",
            "2226/2226 [==============================] - 0s 92us/step - loss: 0.5319 - acc: 0.7718 - val_loss: 8.3334 - val_acc: 0.1780\n",
            "Epoch 60/100\n",
            "2226/2226 [==============================] - 0s 96us/step - loss: 0.5330 - acc: 0.7695 - val_loss: 8.4820 - val_acc: 0.2458\n",
            "Epoch 61/100\n",
            "2226/2226 [==============================] - 0s 92us/step - loss: 0.5254 - acc: 0.7731 - val_loss: 8.5268 - val_acc: 0.1525\n",
            "Epoch 62/100\n",
            "2226/2226 [==============================] - 0s 92us/step - loss: 0.5268 - acc: 0.7772 - val_loss: 8.5064 - val_acc: 0.1949\n",
            "Epoch 63/100\n",
            "2226/2226 [==============================] - 0s 96us/step - loss: 0.5252 - acc: 0.7740 - val_loss: 8.4752 - val_acc: 0.1949\n",
            "Epoch 64/100\n",
            "2226/2226 [==============================] - 0s 92us/step - loss: 0.5213 - acc: 0.7790 - val_loss: 8.5911 - val_acc: 0.1864\n",
            "Epoch 65/100\n",
            "2226/2226 [==============================] - 0s 92us/step - loss: 0.5209 - acc: 0.7758 - val_loss: 8.4347 - val_acc: 0.1695\n",
            "Epoch 66/100\n",
            "2226/2226 [==============================] - 0s 94us/step - loss: 0.5183 - acc: 0.7745 - val_loss: 8.4644 - val_acc: 0.1695\n",
            "Epoch 67/100\n",
            "2226/2226 [==============================] - 0s 90us/step - loss: 0.5263 - acc: 0.7767 - val_loss: 8.4239 - val_acc: 0.2203\n",
            "Epoch 68/100\n",
            "2226/2226 [==============================] - 0s 97us/step - loss: 0.5168 - acc: 0.7754 - val_loss: 8.5351 - val_acc: 0.1525\n",
            "Epoch 69/100\n",
            "2226/2226 [==============================] - 0s 91us/step - loss: 0.5152 - acc: 0.7794 - val_loss: 8.4925 - val_acc: 0.1864\n",
            "Epoch 70/100\n",
            "2226/2226 [==============================] - 0s 89us/step - loss: 0.5190 - acc: 0.7736 - val_loss: 8.4950 - val_acc: 0.2203\n",
            "Epoch 71/100\n",
            "2226/2226 [==============================] - 0s 95us/step - loss: 0.5225 - acc: 0.7673 - val_loss: 8.4940 - val_acc: 0.1864\n",
            "Epoch 72/100\n",
            "2226/2226 [==============================] - 0s 90us/step - loss: 0.5153 - acc: 0.7781 - val_loss: 8.4874 - val_acc: 0.2034\n",
            "Epoch 73/100\n",
            "2226/2226 [==============================] - 0s 101us/step - loss: 0.5138 - acc: 0.7772 - val_loss: 8.6383 - val_acc: 0.1864\n",
            "Epoch 74/100\n",
            "2226/2226 [==============================] - 0s 91us/step - loss: 0.5182 - acc: 0.7754 - val_loss: 8.6030 - val_acc: 0.2034\n",
            "Epoch 75/100\n",
            "2226/2226 [==============================] - 0s 91us/step - loss: 0.5121 - acc: 0.7758 - val_loss: 8.4620 - val_acc: 0.2288\n",
            "Epoch 76/100\n",
            "2226/2226 [==============================] - 0s 92us/step - loss: 0.5114 - acc: 0.7803 - val_loss: 8.5476 - val_acc: 0.2034\n",
            "Epoch 77/100\n",
            "2226/2226 [==============================] - 0s 90us/step - loss: 0.5099 - acc: 0.7758 - val_loss: 8.5920 - val_acc: 0.2034\n",
            "Epoch 78/100\n",
            "2226/2226 [==============================] - 0s 97us/step - loss: 0.5080 - acc: 0.7785 - val_loss: 8.6240 - val_acc: 0.1949\n",
            "Epoch 79/100\n",
            "2226/2226 [==============================] - 0s 92us/step - loss: 0.5118 - acc: 0.7709 - val_loss: 8.6090 - val_acc: 0.1949\n",
            "Epoch 80/100\n",
            "2226/2226 [==============================] - 0s 91us/step - loss: 0.5080 - acc: 0.7794 - val_loss: 8.6212 - val_acc: 0.2203\n",
            "Epoch 81/100\n",
            "2226/2226 [==============================] - 0s 93us/step - loss: 0.5094 - acc: 0.7799 - val_loss: 8.5628 - val_acc: 0.2119\n",
            "Epoch 82/100\n",
            "2226/2226 [==============================] - 0s 94us/step - loss: 0.5085 - acc: 0.7745 - val_loss: 8.6933 - val_acc: 0.1441\n",
            "Epoch 83/100\n",
            "2226/2226 [==============================] - 0s 96us/step - loss: 0.5059 - acc: 0.7821 - val_loss: 8.6234 - val_acc: 0.1864\n",
            "Epoch 84/100\n",
            "2226/2226 [==============================] - 0s 91us/step - loss: 0.5083 - acc: 0.7722 - val_loss: 8.5689 - val_acc: 0.2119\n",
            "Epoch 85/100\n",
            "2226/2226 [==============================] - 0s 92us/step - loss: 0.5060 - acc: 0.7758 - val_loss: 8.7094 - val_acc: 0.1949\n",
            "Epoch 86/100\n",
            "2226/2226 [==============================] - 0s 93us/step - loss: 0.5001 - acc: 0.7844 - val_loss: 8.6265 - val_acc: 0.2119\n",
            "Epoch 87/100\n",
            "2226/2226 [==============================] - 0s 95us/step - loss: 0.5054 - acc: 0.7740 - val_loss: 8.7034 - val_acc: 0.1780\n",
            "Epoch 88/100\n",
            "2226/2226 [==============================] - 0s 95us/step - loss: 0.5007 - acc: 0.7758 - val_loss: 8.5850 - val_acc: 0.1949\n",
            "Epoch 89/100\n",
            "2226/2226 [==============================] - 0s 92us/step - loss: 0.5007 - acc: 0.7808 - val_loss: 8.6405 - val_acc: 0.1864\n",
            "Epoch 90/100\n",
            "2226/2226 [==============================] - 0s 93us/step - loss: 0.4982 - acc: 0.7758 - val_loss: 8.5924 - val_acc: 0.2373\n",
            "Epoch 91/100\n",
            "2226/2226 [==============================] - 0s 93us/step - loss: 0.5014 - acc: 0.7749 - val_loss: 8.6717 - val_acc: 0.2119\n",
            "Epoch 92/100\n",
            "2226/2226 [==============================] - 0s 94us/step - loss: 0.4989 - acc: 0.7785 - val_loss: 8.6895 - val_acc: 0.2203\n",
            "Epoch 93/100\n",
            "2226/2226 [==============================] - 0s 96us/step - loss: 0.4988 - acc: 0.7700 - val_loss: 8.6626 - val_acc: 0.2203\n",
            "Epoch 94/100\n",
            "2226/2226 [==============================] - 0s 92us/step - loss: 0.4955 - acc: 0.7808 - val_loss: 8.6057 - val_acc: 0.2119\n",
            "Epoch 95/100\n",
            "2226/2226 [==============================] - 0s 91us/step - loss: 0.4969 - acc: 0.7763 - val_loss: 8.7646 - val_acc: 0.1780\n",
            "Epoch 96/100\n",
            "2226/2226 [==============================] - 0s 92us/step - loss: 0.4947 - acc: 0.7799 - val_loss: 8.6005 - val_acc: 0.2288\n",
            "Epoch 97/100\n",
            "2226/2226 [==============================] - 0s 94us/step - loss: 0.4953 - acc: 0.7790 - val_loss: 8.6612 - val_acc: 0.2203\n",
            "Epoch 98/100\n",
            "2226/2226 [==============================] - 0s 96us/step - loss: 0.4964 - acc: 0.7767 - val_loss: 8.6510 - val_acc: 0.2203\n",
            "Epoch 99/100\n",
            "2226/2226 [==============================] - 0s 91us/step - loss: 0.4956 - acc: 0.7772 - val_loss: 8.6581 - val_acc: 0.2288\n",
            "Epoch 100/100\n",
            "2226/2226 [==============================] - 0s 92us/step - loss: 0.4900 - acc: 0.7817 - val_loss: 8.7077 - val_acc: 0.2034\n"
          ],
          "name": "stdout"
        }
      ]
    },
    {
      "cell_type": "code",
      "metadata": {
        "id": "rz0QVK__vd4w",
        "colab_type": "code",
        "colab": {}
      },
      "source": [
        "model.save('/content/drive/My Drive/keras_model.h5')\n",
        "pickle.dump(history, open(\"/content/drive/My Drive/history.p\", \"wb\"))"
      ],
      "execution_count": 0,
      "outputs": []
    },
    {
      "cell_type": "code",
      "metadata": {
        "id": "zURhyF72vsoE",
        "colab_type": "code",
        "colab": {}
      },
      "source": [
        "model = load_model('/content/drive/My Drive/keras_model.h5')\n",
        "history = pickle.load(open(\"/content/drive/My Drive/history.p\", \"rb\"))"
      ],
      "execution_count": 0,
      "outputs": []
    },
    {
      "cell_type": "code",
      "metadata": {
        "id": "Per2bYV5v1dO",
        "colab_type": "code",
        "outputId": "1e9c0f0d-a411-4fd3-d7ed-53159f7c2e44",
        "colab": {
          "base_uri": "https://localhost:8080/",
          "height": 390
        }
      },
      "source": [
        "plt.plot(history['acc'])\n",
        "plt.plot(history['val_acc'])\n",
        "plt.title('model accuracy')\n",
        "plt.ylabel('accuracy')\n",
        "plt.xlabel('epoch')\n",
        "plt.legend(['train', 'test'], loc='upper left')"
      ],
      "execution_count": 0,
      "outputs": [
        {
          "output_type": "execute_result",
          "data": {
            "text/plain": [
              "<matplotlib.legend.Legend at 0x7f3c298d5208>"
            ]
          },
          "metadata": {
            "tags": []
          },
          "execution_count": 113
        },
        {
          "output_type": "display_data",
          "data": {
            "image/png": "[encoded data removed]",
            "text/plain": [
              "<Figure size 864x360 with 1 Axes>"
            ]
          },
          "metadata": {
            "tags": []
          }
        }
      ]
    },
    {
      "cell_type": "code",
      "metadata": {
        "id": "wXMg_1-Jv8k9",
        "colab_type": "code",
        "outputId": "d5c084e6-e225-4cf1-ebf7-01dbc1cd6c1b",
        "colab": {
          "base_uri": "https://localhost:8080/",
          "height": 372
        }
      },
      "source": [
        "plt.plot(history['loss'])\n",
        "plt.plot(history['val_loss'])\n",
        "plt.title('model loss')\n",
        "plt.ylabel('loss')\n",
        "plt.xlabel('epoch')\n",
        "plt.legend(['train', 'test'], loc='upper left');"
      ],
      "execution_count": 0,
      "outputs": [
        {
          "output_type": "display_data",
          "data": {
            "image/png": "[encoded data removed]",
            "text/plain": [
              "<Figure size 864x360 with 1 Axes>"
            ]
          },
          "metadata": {
            "tags": []
          }
        }
      ]
    },
    {
      "cell_type": "code",
      "metadata": {
        "id": "1ggpItmDwF5Y",
        "colab_type": "code",
        "outputId": "c715b4b3-5eb4-4ef1-b929-4841a806714b",
        "colab": {
          "base_uri": "https://localhost:8080/",
          "height": 72
        }
      },
      "source": [
        "def prepare_input(text):\n",
        "    x = np.zeros((1, SEQUENCE_LENGTH, len(vocab)))    \n",
        "    for t, word in enumerate(text.split(' ')):\n",
        "        x[0, t, word_indices[word]] = 1.\n",
        "        \n",
        "    return x\n",
        "def sample(preds, top_n=3):\n",
        "    preds = np.asarray(preds).astype('float64')\n",
        "    preds = np.log(preds)\n",
        "    exp_preds = np.exp(preds)\n",
        "    preds = exp_preds / np.sum(exp_preds)\n",
        "    \n",
        "    return heapq.nlargest(top_n, range(len(preds)), preds.take)\n",
        "\n",
        "print(prepare_input('Hope'))\n",
        "\n",
        "print(word_indices['you'])"
      ],
      "execution_count": 0,
      "outputs": [
        {
          "output_type": "stream",
          "text": [
            "[[[0. 0. 0. ... 0. 0. 0.]\n",
            "  [0. 0. 0. ... 0. 0. 0.]]]\n",
            "657\n"
          ],
          "name": "stdout"
        }
      ]
    },
    {
      "cell_type": "code",
      "metadata": {
        "id": "AVvsMvOuwlfg",
        "colab_type": "code",
        "colab": {}
      },
      "source": [
        "def predict_completion(text,n):\n",
        "    original_text = text\n",
        "    generated = text\n",
        "    completion = ''\n",
        "    bag=[]\n",
        "    while True:\n",
        "        x = prepare_input(text)\n",
        "        preds = model.predict(x, verbose=0)[0]\n",
        "        next_index = sample(preds, top_n=1)[0]\n",
        "        next_word = indices_word[next_index]      \n",
        "        text = text.split(' ')[1]+' '+next_word\n",
        "        print(text)\n",
        "        if next_word=='<end>':\n",
        "          return completion\n",
        "        completion = completion + ' ' +next_word\n",
        "        bag.append(next_word)\n",
        "        if len(bag) >= n or next_word == ' ' or next_word == '':\n",
        "            return completion"
      ],
      "execution_count": 0,
      "outputs": []
    },
    {
      "cell_type": "code",
      "metadata": {
        "id": "ySveSdC-wtYA",
        "colab_type": "code",
        "colab": {}
      },
      "source": [
        "def predict_completions(text, n=3):\n",
        "    print(text)\n",
        "    x = prepare_input(text)\n",
        "    preds = model.predict(x, verbose=0)[0]\n",
        "    next_indices = sample(preds, n)\n",
        "    return predict_completion(text,n)\n",
        "    #return [indices_word[idx] + predict_completion(text + indices_word[idx]) for idx in next_indices]"
      ],
      "execution_count": 0,
      "outputs": []
    },
    {
      "cell_type": "code",
      "metadata": {
        "id": "3ePN3c6dw38j",
        "colab_type": "code",
        "colab": {}
      },
      "source": [
        "quotes = [\n",
        "    \"apologize for\"]"
      ],
      "execution_count": 0,
      "outputs": []
    },
    {
      "cell_type": "code",
      "metadata": {
        "id": "ORICXMdMxCIf",
        "colab_type": "code",
        "outputId": "bd06197b-5c66-46a9-a505-6907f1efaca9",
        "colab": {
          "base_uri": "https://localhost:8080/",
          "height": 182
        }
      },
      "source": [
        "import time\n",
        "st=time.time()\n",
        "for q in quotes:\n",
        "    seq = q\n",
        "    print(seq)\n",
        "    print(predict_completions(seq, 4))\n",
        "    print()\n",
        "en=time.time()\n",
        "print('time elapsed',en-st)"
      ],
      "execution_count": 0,
      "outputs": [
        {
          "output_type": "stream",
          "text": [
            "to apologize\n",
            "to apologize\n",
            "apologize for\n",
            "for the\n",
            "the following\n",
            "following reason.\n",
            " for the following reason.\n",
            "\n",
            "time elapsed 0.03401827812194824\n"
          ],
          "name": "stdout"
        }
      ]
    }
  ]
}